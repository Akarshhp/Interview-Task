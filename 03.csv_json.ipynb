{
 "cells": [
  {
   "cell_type": "code",
   "execution_count": 8,
   "id": "47e592a6",
   "metadata": {},
   "outputs": [],
   "source": [
    "import json"
   ]
  },
  {
   "cell_type": "code",
   "execution_count": 9,
   "id": "68148dd8",
   "metadata": {},
   "outputs": [],
   "source": [
    "import csv"
   ]
  },
  {
   "cell_type": "code",
   "execution_count": 10,
   "id": "2ce8340f",
   "metadata": {},
   "outputs": [
    {
     "name": "stdout",
     "output_type": "stream",
     "text": [
      "[{'Doc.Num': 'Doc.Num', 'Itm.no': 'Itm.no', 'Bill Date': 'Bill Date', 'Currency': 'Currency', 'Payer City': 'Payer City', 'Invoice Quantity': 'Invoice Quantity', 'MRP Value': 'MRP Value', 'Cost Price': 'Cost Price', 'Taxable Amount': 'Taxable Amount', 'Total Tax': 'Total Tax', 'Total Amount': 'Total Amount', 'MRP Price': 'MRP Price'}]\n",
      "[{'Doc.Num': 'Doc.Num', 'Itm.no': 'Itm.no', 'Bill Date': 'Bill Date', 'Currency': 'Currency', 'Payer City': 'Payer City', 'Invoice Quantity': 'Invoice Quantity', 'MRP Value': 'MRP Value', 'Cost Price': 'Cost Price', 'Taxable Amount': 'Taxable Amount', 'Total Tax': 'Total Tax', 'Total Amount': 'Total Amount', 'MRP Price': 'MRP Price'}, {'Doc.Num': '1823137837', 'Itm.no': '12', 'Bill Date': '16-04-2022', 'Currency': 'INR', 'Payer City': 'NIZAMABAD', 'Invoice Quantity': '300', 'MRP Value': '300', 'Cost Price': '4836', 'Taxable Amount': '68.64', 'Total Tax': '12.36', 'Total Amount': '81', 'MRP Price': '1'}]\n",
      "[{'Doc.Num': 'Doc.Num', 'Itm.no': 'Itm.no', 'Bill Date': 'Bill Date', 'Currency': 'Currency', 'Payer City': 'Payer City', 'Invoice Quantity': 'Invoice Quantity', 'MRP Value': 'MRP Value', 'Cost Price': 'Cost Price', 'Taxable Amount': 'Taxable Amount', 'Total Tax': 'Total Tax', 'Total Amount': 'Total Amount', 'MRP Price': 'MRP Price'}, {'Doc.Num': '1823137837', 'Itm.no': '12', 'Bill Date': '16-04-2022', 'Currency': 'INR', 'Payer City': 'NIZAMABAD', 'Invoice Quantity': '300', 'MRP Value': '300', 'Cost Price': '4836', 'Taxable Amount': '68.64', 'Total Tax': '12.36', 'Total Amount': '81', 'MRP Price': '1'}, {'Doc.Num': '1823138032', 'Itm.no': '12', 'Bill Date': '16-04-2022', 'Currency': 'INR', 'Payer City': 'GUNTUR', 'Invoice Quantity': '11', 'MRP Value': '66', 'Cost Price': '18040', 'Taxable Amount': '40.83', 'Total Tax': '7.35', 'Total Amount': '48.18', 'MRP Price': '6'}]\n",
      "[{'Doc.Num': 'Doc.Num', 'Itm.no': 'Itm.no', 'Bill Date': 'Bill Date', 'Currency': 'Currency', 'Payer City': 'Payer City', 'Invoice Quantity': 'Invoice Quantity', 'MRP Value': 'MRP Value', 'Cost Price': 'Cost Price', 'Taxable Amount': 'Taxable Amount', 'Total Tax': 'Total Tax', 'Total Amount': 'Total Amount', 'MRP Price': 'MRP Price'}, {'Doc.Num': '1823137837', 'Itm.no': '12', 'Bill Date': '16-04-2022', 'Currency': 'INR', 'Payer City': 'NIZAMABAD', 'Invoice Quantity': '300', 'MRP Value': '300', 'Cost Price': '4836', 'Taxable Amount': '68.64', 'Total Tax': '12.36', 'Total Amount': '81', 'MRP Price': '1'}, {'Doc.Num': '1823138032', 'Itm.no': '12', 'Bill Date': '16-04-2022', 'Currency': 'INR', 'Payer City': 'GUNTUR', 'Invoice Quantity': '11', 'MRP Value': '66', 'Cost Price': '18040', 'Taxable Amount': '40.83', 'Total Tax': '7.35', 'Total Amount': '48.18', 'MRP Price': '6'}, {'Doc.Num': '1823138032', 'Itm.no': '22', 'Bill Date': '16-04-2022', 'Currency': 'INR', 'Payer City': 'GUNTUR', 'Invoice Quantity': '4', 'MRP Value': '28', 'Cost Price': '8880', 'Taxable Amount': '17.32', 'Total Tax': '3.12', 'Total Amount': '20.44', 'MRP Price': '7'}]\n",
      "[{'Doc.Num': 'Doc.Num', 'Itm.no': 'Itm.no', 'Bill Date': 'Bill Date', 'Currency': 'Currency', 'Payer City': 'Payer City', 'Invoice Quantity': 'Invoice Quantity', 'MRP Value': 'MRP Value', 'Cost Price': 'Cost Price', 'Taxable Amount': 'Taxable Amount', 'Total Tax': 'Total Tax', 'Total Amount': 'Total Amount', 'MRP Price': 'MRP Price'}, {'Doc.Num': '1823137837', 'Itm.no': '12', 'Bill Date': '16-04-2022', 'Currency': 'INR', 'Payer City': 'NIZAMABAD', 'Invoice Quantity': '300', 'MRP Value': '300', 'Cost Price': '4836', 'Taxable Amount': '68.64', 'Total Tax': '12.36', 'Total Amount': '81', 'MRP Price': '1'}, {'Doc.Num': '1823138032', 'Itm.no': '12', 'Bill Date': '16-04-2022', 'Currency': 'INR', 'Payer City': 'GUNTUR', 'Invoice Quantity': '11', 'MRP Value': '66', 'Cost Price': '18040', 'Taxable Amount': '40.83', 'Total Tax': '7.35', 'Total Amount': '48.18', 'MRP Price': '6'}, {'Doc.Num': '1823138032', 'Itm.no': '22', 'Bill Date': '16-04-2022', 'Currency': 'INR', 'Payer City': 'GUNTUR', 'Invoice Quantity': '4', 'MRP Value': '28', 'Cost Price': '8880', 'Taxable Amount': '17.32', 'Total Tax': '3.12', 'Total Amount': '20.44', 'MRP Price': '7'}, {'Doc.Num': '1823138032', 'Itm.no': '32', 'Bill Date': '16-04-2022', 'Currency': 'INR', 'Payer City': 'GUNTUR', 'Invoice Quantity': '28', 'MRP Value': '140', 'Cost Price': '21280', 'Taxable Amount': '86.61', 'Total Tax': '15.59', 'Total Amount': '102.2', 'MRP Price': '5'}]\n",
      "[{'Doc.Num': 'Doc.Num', 'Itm.no': 'Itm.no', 'Bill Date': 'Bill Date', 'Currency': 'Currency', 'Payer City': 'Payer City', 'Invoice Quantity': 'Invoice Quantity', 'MRP Value': 'MRP Value', 'Cost Price': 'Cost Price', 'Taxable Amount': 'Taxable Amount', 'Total Tax': 'Total Tax', 'Total Amount': 'Total Amount', 'MRP Price': 'MRP Price'}, {'Doc.Num': '1823137837', 'Itm.no': '12', 'Bill Date': '16-04-2022', 'Currency': 'INR', 'Payer City': 'NIZAMABAD', 'Invoice Quantity': '300', 'MRP Value': '300', 'Cost Price': '4836', 'Taxable Amount': '68.64', 'Total Tax': '12.36', 'Total Amount': '81', 'MRP Price': '1'}, {'Doc.Num': '1823138032', 'Itm.no': '12', 'Bill Date': '16-04-2022', 'Currency': 'INR', 'Payer City': 'GUNTUR', 'Invoice Quantity': '11', 'MRP Value': '66', 'Cost Price': '18040', 'Taxable Amount': '40.83', 'Total Tax': '7.35', 'Total Amount': '48.18', 'MRP Price': '6'}, {'Doc.Num': '1823138032', 'Itm.no': '22', 'Bill Date': '16-04-2022', 'Currency': 'INR', 'Payer City': 'GUNTUR', 'Invoice Quantity': '4', 'MRP Value': '28', 'Cost Price': '8880', 'Taxable Amount': '17.32', 'Total Tax': '3.12', 'Total Amount': '20.44', 'MRP Price': '7'}, {'Doc.Num': '1823138032', 'Itm.no': '32', 'Bill Date': '16-04-2022', 'Currency': 'INR', 'Payer City': 'GUNTUR', 'Invoice Quantity': '28', 'MRP Value': '140', 'Cost Price': '21280', 'Taxable Amount': '86.61', 'Total Tax': '15.59', 'Total Amount': '102.2', 'MRP Price': '5'}, {'Doc.Num': '1823143995', 'Itm.no': '10', 'Bill Date': '16-04-2022', 'Currency': 'INR', 'Payer City': 'BENGALURU', 'Invoice Quantity': '1', 'MRP Value': '1899', 'Cost Price': '585', 'Taxable Amount': '676.42', 'Total Tax': '33.82', 'Total Amount': '710.24', 'MRP Price': '1899'}]\n",
      "[{'Doc.Num': 'Doc.Num', 'Itm.no': 'Itm.no', 'Bill Date': 'Bill Date', 'Currency': 'Currency', 'Payer City': 'Payer City', 'Invoice Quantity': 'Invoice Quantity', 'MRP Value': 'MRP Value', 'Cost Price': 'Cost Price', 'Taxable Amount': 'Taxable Amount', 'Total Tax': 'Total Tax', 'Total Amount': 'Total Amount', 'MRP Price': 'MRP Price'}, {'Doc.Num': '1823137837', 'Itm.no': '12', 'Bill Date': '16-04-2022', 'Currency': 'INR', 'Payer City': 'NIZAMABAD', 'Invoice Quantity': '300', 'MRP Value': '300', 'Cost Price': '4836', 'Taxable Amount': '68.64', 'Total Tax': '12.36', 'Total Amount': '81', 'MRP Price': '1'}, {'Doc.Num': '1823138032', 'Itm.no': '12', 'Bill Date': '16-04-2022', 'Currency': 'INR', 'Payer City': 'GUNTUR', 'Invoice Quantity': '11', 'MRP Value': '66', 'Cost Price': '18040', 'Taxable Amount': '40.83', 'Total Tax': '7.35', 'Total Amount': '48.18', 'MRP Price': '6'}, {'Doc.Num': '1823138032', 'Itm.no': '22', 'Bill Date': '16-04-2022', 'Currency': 'INR', 'Payer City': 'GUNTUR', 'Invoice Quantity': '4', 'MRP Value': '28', 'Cost Price': '8880', 'Taxable Amount': '17.32', 'Total Tax': '3.12', 'Total Amount': '20.44', 'MRP Price': '7'}, {'Doc.Num': '1823138032', 'Itm.no': '32', 'Bill Date': '16-04-2022', 'Currency': 'INR', 'Payer City': 'GUNTUR', 'Invoice Quantity': '28', 'MRP Value': '140', 'Cost Price': '21280', 'Taxable Amount': '86.61', 'Total Tax': '15.59', 'Total Amount': '102.2', 'MRP Price': '5'}, {'Doc.Num': '1823143995', 'Itm.no': '10', 'Bill Date': '16-04-2022', 'Currency': 'INR', 'Payer City': 'BENGALURU', 'Invoice Quantity': '1', 'MRP Value': '1899', 'Cost Price': '585', 'Taxable Amount': '676.42', 'Total Tax': '33.82', 'Total Amount': '710.24', 'MRP Price': '1899'}, {'Doc.Num': '1823144994', 'Itm.no': '12', 'Bill Date': '16-04-2022', 'Currency': 'INR', 'Payer City': 'HUBLI', 'Invoice Quantity': '400', 'MRP Value': '400', 'Cost Price': '6448', 'Taxable Amount': '108', 'Total Tax': '0', 'Total Amount': '108', 'MRP Price': '1'}]\n",
      "[{'Doc.Num': 'Doc.Num', 'Itm.no': 'Itm.no', 'Bill Date': 'Bill Date', 'Currency': 'Currency', 'Payer City': 'Payer City', 'Invoice Quantity': 'Invoice Quantity', 'MRP Value': 'MRP Value', 'Cost Price': 'Cost Price', 'Taxable Amount': 'Taxable Amount', 'Total Tax': 'Total Tax', 'Total Amount': 'Total Amount', 'MRP Price': 'MRP Price'}, {'Doc.Num': '1823137837', 'Itm.no': '12', 'Bill Date': '16-04-2022', 'Currency': 'INR', 'Payer City': 'NIZAMABAD', 'Invoice Quantity': '300', 'MRP Value': '300', 'Cost Price': '4836', 'Taxable Amount': '68.64', 'Total Tax': '12.36', 'Total Amount': '81', 'MRP Price': '1'}, {'Doc.Num': '1823138032', 'Itm.no': '12', 'Bill Date': '16-04-2022', 'Currency': 'INR', 'Payer City': 'GUNTUR', 'Invoice Quantity': '11', 'MRP Value': '66', 'Cost Price': '18040', 'Taxable Amount': '40.83', 'Total Tax': '7.35', 'Total Amount': '48.18', 'MRP Price': '6'}, {'Doc.Num': '1823138032', 'Itm.no': '22', 'Bill Date': '16-04-2022', 'Currency': 'INR', 'Payer City': 'GUNTUR', 'Invoice Quantity': '4', 'MRP Value': '28', 'Cost Price': '8880', 'Taxable Amount': '17.32', 'Total Tax': '3.12', 'Total Amount': '20.44', 'MRP Price': '7'}, {'Doc.Num': '1823138032', 'Itm.no': '32', 'Bill Date': '16-04-2022', 'Currency': 'INR', 'Payer City': 'GUNTUR', 'Invoice Quantity': '28', 'MRP Value': '140', 'Cost Price': '21280', 'Taxable Amount': '86.61', 'Total Tax': '15.59', 'Total Amount': '102.2', 'MRP Price': '5'}, {'Doc.Num': '1823143995', 'Itm.no': '10', 'Bill Date': '16-04-2022', 'Currency': 'INR', 'Payer City': 'BENGALURU', 'Invoice Quantity': '1', 'MRP Value': '1899', 'Cost Price': '585', 'Taxable Amount': '676.42', 'Total Tax': '33.82', 'Total Amount': '710.24', 'MRP Price': '1899'}, {'Doc.Num': '1823144994', 'Itm.no': '12', 'Bill Date': '16-04-2022', 'Currency': 'INR', 'Payer City': 'HUBLI', 'Invoice Quantity': '400', 'MRP Value': '400', 'Cost Price': '6448', 'Taxable Amount': '108', 'Total Tax': '0', 'Total Amount': '108', 'MRP Price': '1'}, {'Doc.Num': '1823146501', 'Itm.no': '10', 'Bill Date': '16-04-2022', 'Currency': 'INR', 'Payer City': 'BENGALURU', 'Invoice Quantity': '1', 'MRP Value': '1599', 'Cost Price': '340', 'Taxable Amount': '516.39', 'Total Tax': '26.36', 'Total Amount': '542.75', 'MRP Price': '1599'}]\n",
      "[{'Doc.Num': 'Doc.Num', 'Itm.no': 'Itm.no', 'Bill Date': 'Bill Date', 'Currency': 'Currency', 'Payer City': 'Payer City', 'Invoice Quantity': 'Invoice Quantity', 'MRP Value': 'MRP Value', 'Cost Price': 'Cost Price', 'Taxable Amount': 'Taxable Amount', 'Total Tax': 'Total Tax', 'Total Amount': 'Total Amount', 'MRP Price': 'MRP Price'}, {'Doc.Num': '1823137837', 'Itm.no': '12', 'Bill Date': '16-04-2022', 'Currency': 'INR', 'Payer City': 'NIZAMABAD', 'Invoice Quantity': '300', 'MRP Value': '300', 'Cost Price': '4836', 'Taxable Amount': '68.64', 'Total Tax': '12.36', 'Total Amount': '81', 'MRP Price': '1'}, {'Doc.Num': '1823138032', 'Itm.no': '12', 'Bill Date': '16-04-2022', 'Currency': 'INR', 'Payer City': 'GUNTUR', 'Invoice Quantity': '11', 'MRP Value': '66', 'Cost Price': '18040', 'Taxable Amount': '40.83', 'Total Tax': '7.35', 'Total Amount': '48.18', 'MRP Price': '6'}, {'Doc.Num': '1823138032', 'Itm.no': '22', 'Bill Date': '16-04-2022', 'Currency': 'INR', 'Payer City': 'GUNTUR', 'Invoice Quantity': '4', 'MRP Value': '28', 'Cost Price': '8880', 'Taxable Amount': '17.32', 'Total Tax': '3.12', 'Total Amount': '20.44', 'MRP Price': '7'}, {'Doc.Num': '1823138032', 'Itm.no': '32', 'Bill Date': '16-04-2022', 'Currency': 'INR', 'Payer City': 'GUNTUR', 'Invoice Quantity': '28', 'MRP Value': '140', 'Cost Price': '21280', 'Taxable Amount': '86.61', 'Total Tax': '15.59', 'Total Amount': '102.2', 'MRP Price': '5'}, {'Doc.Num': '1823143995', 'Itm.no': '10', 'Bill Date': '16-04-2022', 'Currency': 'INR', 'Payer City': 'BENGALURU', 'Invoice Quantity': '1', 'MRP Value': '1899', 'Cost Price': '585', 'Taxable Amount': '676.42', 'Total Tax': '33.82', 'Total Amount': '710.24', 'MRP Price': '1899'}, {'Doc.Num': '1823144994', 'Itm.no': '12', 'Bill Date': '16-04-2022', 'Currency': 'INR', 'Payer City': 'HUBLI', 'Invoice Quantity': '400', 'MRP Value': '400', 'Cost Price': '6448', 'Taxable Amount': '108', 'Total Tax': '0', 'Total Amount': '108', 'MRP Price': '1'}, {'Doc.Num': '1823146501', 'Itm.no': '10', 'Bill Date': '16-04-2022', 'Currency': 'INR', 'Payer City': 'BENGALURU', 'Invoice Quantity': '1', 'MRP Value': '1599', 'Cost Price': '340', 'Taxable Amount': '516.39', 'Total Tax': '26.36', 'Total Amount': '542.75', 'MRP Price': '1599'}, {'Doc.Num': '1823146527', 'Itm.no': '12', 'Bill Date': '16-04-2022', 'Currency': 'INR', 'Payer City': 'MANCHERIAL', 'Invoice Quantity': '300', 'MRP Value': '300', 'Cost Price': '4836', 'Taxable Amount': '68.64', 'Total Tax': '12.36', 'Total Amount': '81', 'MRP Price': '1'}]\n",
      "[{'Doc.Num': 'Doc.Num', 'Itm.no': 'Itm.no', 'Bill Date': 'Bill Date', 'Currency': 'Currency', 'Payer City': 'Payer City', 'Invoice Quantity': 'Invoice Quantity', 'MRP Value': 'MRP Value', 'Cost Price': 'Cost Price', 'Taxable Amount': 'Taxable Amount', 'Total Tax': 'Total Tax', 'Total Amount': 'Total Amount', 'MRP Price': 'MRP Price'}, {'Doc.Num': '1823137837', 'Itm.no': '12', 'Bill Date': '16-04-2022', 'Currency': 'INR', 'Payer City': 'NIZAMABAD', 'Invoice Quantity': '300', 'MRP Value': '300', 'Cost Price': '4836', 'Taxable Amount': '68.64', 'Total Tax': '12.36', 'Total Amount': '81', 'MRP Price': '1'}, {'Doc.Num': '1823138032', 'Itm.no': '12', 'Bill Date': '16-04-2022', 'Currency': 'INR', 'Payer City': 'GUNTUR', 'Invoice Quantity': '11', 'MRP Value': '66', 'Cost Price': '18040', 'Taxable Amount': '40.83', 'Total Tax': '7.35', 'Total Amount': '48.18', 'MRP Price': '6'}, {'Doc.Num': '1823138032', 'Itm.no': '22', 'Bill Date': '16-04-2022', 'Currency': 'INR', 'Payer City': 'GUNTUR', 'Invoice Quantity': '4', 'MRP Value': '28', 'Cost Price': '8880', 'Taxable Amount': '17.32', 'Total Tax': '3.12', 'Total Amount': '20.44', 'MRP Price': '7'}, {'Doc.Num': '1823138032', 'Itm.no': '32', 'Bill Date': '16-04-2022', 'Currency': 'INR', 'Payer City': 'GUNTUR', 'Invoice Quantity': '28', 'MRP Value': '140', 'Cost Price': '21280', 'Taxable Amount': '86.61', 'Total Tax': '15.59', 'Total Amount': '102.2', 'MRP Price': '5'}, {'Doc.Num': '1823143995', 'Itm.no': '10', 'Bill Date': '16-04-2022', 'Currency': 'INR', 'Payer City': 'BENGALURU', 'Invoice Quantity': '1', 'MRP Value': '1899', 'Cost Price': '585', 'Taxable Amount': '676.42', 'Total Tax': '33.82', 'Total Amount': '710.24', 'MRP Price': '1899'}, {'Doc.Num': '1823144994', 'Itm.no': '12', 'Bill Date': '16-04-2022', 'Currency': 'INR', 'Payer City': 'HUBLI', 'Invoice Quantity': '400', 'MRP Value': '400', 'Cost Price': '6448', 'Taxable Amount': '108', 'Total Tax': '0', 'Total Amount': '108', 'MRP Price': '1'}, {'Doc.Num': '1823146501', 'Itm.no': '10', 'Bill Date': '16-04-2022', 'Currency': 'INR', 'Payer City': 'BENGALURU', 'Invoice Quantity': '1', 'MRP Value': '1599', 'Cost Price': '340', 'Taxable Amount': '516.39', 'Total Tax': '26.36', 'Total Amount': '542.75', 'MRP Price': '1599'}, {'Doc.Num': '1823146527', 'Itm.no': '12', 'Bill Date': '16-04-2022', 'Currency': 'INR', 'Payer City': 'MANCHERIAL', 'Invoice Quantity': '300', 'MRP Value': '300', 'Cost Price': '4836', 'Taxable Amount': '68.64', 'Total Tax': '12.36', 'Total Amount': '81', 'MRP Price': '1'}, {'Doc.Num': '1823146661', 'Itm.no': '12', 'Bill Date': '16-04-2022', 'Currency': 'INR', 'Payer City': 'HYDERABAD', 'Invoice Quantity': '1', 'MRP Value': '2399', 'Cost Price': '504.2', 'Taxable Amount': '753.97', 'Total Tax': '37.7', 'Total Amount': '791.67', 'MRP Price': '2399'}]\n"
     ]
    }
   ],
   "source": [
    "#open and reading the csv file\n",
    "with open(\"test3_1.csv\",\"r\") as f:\n",
    "    reader = csv.reader(f)\n",
    "    \n",
    "    # appending all csv data into list in the form of dictionary(key-value pair)\n",
    "    data = []\n",
    "    for row in reader:\n",
    "        data.append({'Doc.Num':row[0],'Itm.no':row[1],'Bill Date':row[2],'Currency':row[3],'Payer City':row[4],'Invoice Quantity':row[5],'MRP Value':row[6],'Cost Price':row[7],'Taxable Amount':row[8],'Total Tax':row[9],'Total Amount':row[10],'MRP Price':row[11]})\n",
    "        print(data)"
   ]
  },
  {
   "cell_type": "code",
   "execution_count": 11,
   "id": "978e38f1",
   "metadata": {},
   "outputs": [],
   "source": [
    "# converts into json object and automatically created the json file\n",
    "with open(\"created_sampl.json\",\"w\") as f:\n",
    "    json.dump(data,f,indent=5)"
   ]
  },
  {
   "cell_type": "code",
   "execution_count": null,
   "id": "97668d3c",
   "metadata": {},
   "outputs": [],
   "source": []
  },
  {
   "cell_type": "code",
   "execution_count": null,
   "id": "1e71a3d6",
   "metadata": {},
   "outputs": [],
   "source": []
  },
  {
   "cell_type": "code",
   "execution_count": null,
   "id": "77889da4",
   "metadata": {},
   "outputs": [],
   "source": []
  },
  {
   "cell_type": "code",
   "execution_count": null,
   "id": "e25be6d6",
   "metadata": {},
   "outputs": [],
   "source": []
  }
 ],
 "metadata": {
  "kernelspec": {
   "display_name": "Python 3 (ipykernel)",
   "language": "python",
   "name": "python3"
  },
  "language_info": {
   "codemirror_mode": {
    "name": "ipython",
    "version": 3
   },
   "file_extension": ".py",
   "mimetype": "text/x-python",
   "name": "python",
   "nbconvert_exporter": "python",
   "pygments_lexer": "ipython3",
   "version": "3.9.13"
  }
 },
 "nbformat": 4,
 "nbformat_minor": 5
}
