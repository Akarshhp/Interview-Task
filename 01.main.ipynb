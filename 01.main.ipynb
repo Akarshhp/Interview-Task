{
 "cells": [
  {
   "cell_type": "code",
   "execution_count": 3,
   "id": "503df556",
   "metadata": {},
   "outputs": [],
   "source": [
    "import pandas as pd\n",
    "import os"
   ]
  },
  {
   "cell_type": "code",
   "execution_count": 13,
   "id": "f1c5f721",
   "metadata": {},
   "outputs": [
    {
     "name": "stdout",
     "output_type": "stream",
     "text": [
      "['test1 - Copy (21).csv', 'test1 - Copy (17).csv', 'test1 - Copy (16).csv', 'test1 - Copy (20).csv', 'test1 - Copy (1).csv', 'test1 - Copy (11).csv', 'test1 - Copy (6).csv', 'test1 - Copy (7).csv', 'test1 - Copy (10).csv', 'test1 - Copy (13).csv', 'test1 - Copy (8).csv', 'test1 - Copy (4).csv', 'test1 - Copy (5).csv', 'test1 - Copy (9).csv', 'test1 - Copy (12).csv', 'test1 - Copy (19).csv', 'test1 - Copy (2).csv', 'test1 - Copy (15).csv', 'test1 - Copy (14).csv', 'test1 - Copy (3).csv', 'test1 - Copy (18).csv', 'test1 - Copy (22).csv']\n"
     ]
    }
   ],
   "source": [
    "#csv file path\n",
    "path_dir = \"/Users/apple/Desktop/interview Task 01-12-22/01.Question/combine\"\n",
    "file = []\n",
    "for files in os.listdir(path_dir):\n",
    "    file.append(files)\n",
    "print(file)\n",
    "\n",
    "    \n",
    "''' appending all csv files in a emplty list''''"
   ]
  },
  {
   "cell_type": "code",
   "execution_count": 14,
   "id": "c5ce18a6",
   "metadata": {},
   "outputs": [],
   "source": [
    "files = [file for file in os.listdir(path_dir)]"
   ]
  },
  {
   "cell_type": "code",
   "execution_count": 15,
   "id": "d83016e0",
   "metadata": {},
   "outputs": [],
   "source": [
    "df1 = pd.concat(map(pd.read_csv,files),ignore_index = True)\n",
    "\n",
    "\n",
    "''' concatinating all csv files into single file ''''"
   ]
  },
  {
   "cell_type": "code",
   "execution_count": 18,
   "id": "3a5f9f11",
   "metadata": {},
   "outputs": [],
   "source": [
    "df1.to_csv(\"combined.csv\")\n",
    "\n",
    "\n",
    "''' new combined csv file creted bur it cross more than 25 lack records ,so can't able load into\n",
    "    excel sheet '''"
   ]
  },
  {
   "cell_type": "code",
   "execution_count": 30,
   "id": "6af2af99",
   "metadata": {},
   "outputs": [],
   "source": [
    "chunk_size = 1000000\n",
    "batch_no = 1\n",
    "\n",
    "for chunk in pd.read_csv('combined.csv',chunksize=chunk_size,encoding='latin'):\n",
    "    chunk.to_csv('combined.csv' + str(batch_no) + '.csv',index=False)\n",
    "    batch_no+=1\n",
    "    \n",
    "''' so the csv file is splitted in to 3 parts'''"
   ]
  },
  {
   "cell_type": "code",
   "execution_count": 32,
   "id": "5d328831",
   "metadata": {},
   "outputs": [],
   "source": [
    "data_1 = pd.read_csv('combined.csv1.csv')\n",
    "data_2 = pd.read_csv('combined.csv2.csv')\n",
    "data_3 = pd.read_csv('combined.csv3.csv')\n",
    "\n",
    "data = pd.concat([data_1, data_2, data_3])\n",
    "\n",
    "''' then concatinate into single excel file '''''"
   ]
  },
  {
   "cell_type": "code",
   "execution_count": 34,
   "id": "7f5e4632",
   "metadata": {},
   "outputs": [],
   "source": [
    "data.to_csv(\"New_combined.xlsx\")\n",
    "\n",
    "''' New exel file is created automatically '''"
   ]
  },
  {
   "cell_type": "code",
   "execution_count": null,
   "id": "3c99b543",
   "metadata": {},
   "outputs": [],
   "source": []
  }
 ],
 "metadata": {
  "kernelspec": {
   "display_name": "Python 3 (ipykernel)",
   "language": "python",
   "name": "python3"
  },
  "language_info": {
   "codemirror_mode": {
    "name": "ipython",
    "version": 3
   },
   "file_extension": ".py",
   "mimetype": "text/x-python",
   "name": "python",
   "nbconvert_exporter": "python",
   "pygments_lexer": "ipython3",
   "version": "3.9.13"
  }
 },
 "nbformat": 4,
 "nbformat_minor": 5
}
